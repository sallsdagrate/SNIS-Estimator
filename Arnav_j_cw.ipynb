{
 "cells": [
  {
   "cell_type": "markdown",
   "id": "7605d264-e8e0-494d-81f3-bd888564fa05",
   "metadata": {},
   "source": [
    "# Stochastic Simulation CW"
   ]
  },
  {
   "cell_type": "code",
   "execution_count": 1,
   "id": "bb55f723-8fe4-468c-b440-6b9a0d14c30f",
   "metadata": {
    "ExecuteTime": {
     "end_time": "2024-11-17T21:54:41.855751Z",
     "start_time": "2024-11-17T21:54:41.039478Z"
    }
   },
   "outputs": [],
   "source": [
    "import numpy as np\n",
    "import scipy as sp\n",
    "import matplotlib.pyplot as plt\n",
    "import warnings"
   ]
  },
  {
   "cell_type": "markdown",
   "id": "0d6ba985-75af-4de4-9a50-8b4a84d82bdc",
   "metadata": {},
   "source": [
    "## Q1a)"
   ]
  },
  {
   "cell_type": "markdown",
   "id": "80397af0-0957-4cd5-b541-3dc2f9bb9a3f",
   "metadata": {},
   "source": [
    "#### By analysing the terms inside the unnormalised Banana density, we may choose a relevant proposal q. We have:\n",
    "\n",
    "$\\bar{p}(x_1, x_2) = \\exp \\left( -\\frac{x_1^2}{10} - \\frac{x_2^2}{10} - 2(x_2 - x_1^2)^2 \\right)$\n",
    "\n",
    "#### Notice that these terms look similar to terms derived from Gaussian density's. For the conditional density, we also introduce a Gaussian Mixture Model, as it is better suited to covering the original density. We hence use the following:\n",
    "\n",
    "$q(x_1) = N(x_1; 0, \\frac{5}{4})$\n",
    "\n",
    "$q(x_2|x_1) = \\frac{1}{5}\\cdot[N(x_2; x_1^{2} - \\frac{1}{5}, \\frac{1}{5}) + 2 \\cdot N(x_2; x_1^{2} - \\frac{1}{10}, \\frac{2}{5}) + 2 \\cdot N(x_2; x_1^{2} - \\frac{1}{5}, \\frac{1}{5})]$\n",
    "\n",
    "$q(x_1, x_2) = q(x_1) \\cdot q(x_2|x_1) = \\frac{1}{\\sqrt{2\\pi \\cdot \\frac{5}{4}}} \\exp\\left(-\\frac{x_1^2}{2 \\cdot \\frac{5}{4}}\\right) \\cdot \\frac{1}{5} \\left( \n",
    "\\frac{1}{\\sqrt{2\\pi \\cdot \\frac{1}{5}}} \\exp\\left(-\\frac{\\left(x_2 - \\left(x_1^2 - \\frac{1}{5}\\right)\\right)^2}{2 \\cdot \\frac{1}{5}}\\right)\n",
    "+ 2 \\cdot \\frac{1}{\\sqrt{2\\pi \\cdot \\frac{2}{5}}} \\exp\\left(-\\frac{\\left(x_2 - \\left(x_1^2 - \\frac{1}{10}\\right)\\right)^2}{2 \\cdot \\frac{2}{5}}\\right)\n",
    "+ 2 \\cdot \\frac{1}{\\sqrt{2\\pi \\cdot \\frac{1}{5}}} \\exp\\left(-\\frac{\\left(x_2 - \\left(x_1^2 - \\frac{1}{5}\\right)\\right)^2}{2 \\cdot \\frac{1}{5}}\\right)\n",
    "\\right)$\n",
    "\n",
    "#### We implement the PDF's for both below:"
   ]
  },
  {
   "cell_type": "code",
   "execution_count": 2,
   "id": "ad49ae8a-35e2-43d1-a97a-a44842b6d878",
   "metadata": {
    "ExecuteTime": {
     "end_time": "2024-11-17T21:54:41.864486Z",
     "start_time": "2024-11-17T21:54:41.857727Z"
    }
   },
   "outputs": [],
   "source": [
    "def p_bar(x1, x2):\n",
    "    return np.exp(-x1**2/10-x2**2/10-2*(x2-x1**2)**2)\n",
    "\n",
    "def q(x1, x2):\n",
    "    q_x1 = sp.stats.norm.pdf(x1, loc=0, scale=np.sqrt(5/4))\n",
    "\n",
    "    # Conditional distributions; mixtures\n",
    "    q_x2_given_x1_m1 = sp.stats.norm.pdf(x2, loc=x1**2-0.2, scale=np.sqrt(1/5)) \n",
    "    q_x2_given_x1_m2 = sp.stats.norm.pdf(x2, loc=x1**2-0.1, scale=np.sqrt(2/5))\n",
    "    q_x2_given_x1_m3 = sp.stats.norm.pdf(x2, loc=x1**2, scale=np.sqrt(1/5))\n",
    "\n",
    "    # Weighted GMM; weights = [0.2, 0.4, 0.4]\n",
    "    q_x2_given_x1 = (q_x2_given_x1_m1 + 2 * q_x2_given_x1_m2 + 2 * q_x2_given_x1_m3) / 5\n",
    "\n",
    "    return q_x1 * q_x2_given_x1"
   ]
  },
  {
   "cell_type": "markdown",
   "id": "c35eeea3-03c2-4574-9c3f-f7f932e84036",
   "metadata": {},
   "source": [
    "#### We can show that this is a sensible implementation of a normalised density, by taking the integral over [-12, 12] x [-12, 12], and it being 0.9981 which is very close to 1:"
   ]
  },
  {
   "cell_type": "code",
   "execution_count": 3,
   "id": "26b45276-4f31-40ef-b55a-96e1116a2c94",
   "metadata": {
    "ExecuteTime": {
     "end_time": "2024-11-17T21:55:03.894430Z",
     "start_time": "2024-11-17T21:54:41.867031Z"
    }
   },
   "outputs": [
    {
     "data": {
      "text/plain": "0.9980685670781415"
     },
     "execution_count": 3,
     "metadata": {},
     "output_type": "execute_result"
    }
   ],
   "source": [
    "def integrate_q_pdf():\n",
    "    area, _ = sp.integrate.dblquad(q, -12, 12, -12, 12)\n",
    "    return area\n",
    "\n",
    "integrate_q_pdf()"
   ]
  },
  {
   "cell_type": "markdown",
   "id": "887c3efe-34cb-428b-aaac-41b925aa76b1",
   "metadata": {},
   "source": [
    "## Q1b)"
   ]
  },
  {
   "cell_type": "markdown",
   "id": "77c15279-1a65-4640-92ca-597b95fbb9b8",
   "metadata": {},
   "source": [
    "#### It would be possible to set:\n",
    "\n",
    "$M = \\frac{\\bar{p}(x_1, x_2)}{q(x_1, x_2)}$\n",
    "\n",
    "#### We would then maximise over:\n",
    "\n",
    "$log(M) = log(\\bar{p}(x_1, x_2)) - log(q(x_1, x_2))$\n",
    "\n",
    "#### However, based on the choice of q, this would be require a relatively involved calculation, so it would be more suitable to search for M using a numerical implementation. We implement a numerical grid search and find that:\n",
    "\n",
    "$M = \\sup_{\\substack{(x_1, x_2)}} \\frac{\\bar{p}(x_1, x_2)}{q(x_1, x_2)} \\approx 4.5901 < 4.6$"
   ]
  },
  {
   "cell_type": "code",
   "execution_count": 4,
   "id": "466140d0-9e6c-45f1-a642-71bfd42dc428",
   "metadata": {
    "ExecuteTime": {
     "end_time": "2024-11-17T21:55:55.876433Z",
     "start_time": "2024-11-17T21:55:04.041508Z"
    }
   },
   "outputs": [
    {
     "ename": "KeyboardInterrupt",
     "evalue": "",
     "output_type": "error",
     "traceback": [
      "\u001B[0;31m---------------------------------------------------------------------------\u001B[0m",
      "\u001B[0;31mKeyboardInterrupt\u001B[0m                         Traceback (most recent call last)",
      "Cell \u001B[0;32mIn[4], line 20\u001B[0m\n\u001B[1;32m     16\u001B[0m                 max_ratio \u001B[38;5;241m=\u001B[39m \u001B[38;5;28mmax\u001B[39m(max_ratio, ratio)\n\u001B[1;32m     18\u001B[0m     \u001B[38;5;28;01mreturn\u001B[39;00m max_ratio\n\u001B[0;32m---> 20\u001B[0m \u001B[43mfind_optimum_ratio\u001B[49m\u001B[43m(\u001B[49m\u001B[43m)\u001B[49m\n\u001B[1;32m     22\u001B[0m \u001B[38;5;66;03m# Choose M = 4.6 as it is greater than the numerical supremum\u001B[39;00m\n",
      "Cell \u001B[0;32mIn[4], line 12\u001B[0m, in \u001B[0;36mfind_optimum_ratio\u001B[0;34m()\u001B[0m\n\u001B[1;32m     10\u001B[0m \u001B[38;5;28;01mfor\u001B[39;00m j \u001B[38;5;129;01min\u001B[39;00m \u001B[38;5;28mrange\u001B[39m(\u001B[38;5;28mlen\u001B[39m(x2_vals)):\n\u001B[1;32m     11\u001B[0m     p_val \u001B[38;5;241m=\u001B[39m p_bar(x1_vals[i], x2_vals[j])\n\u001B[0;32m---> 12\u001B[0m     q_val \u001B[38;5;241m=\u001B[39m \u001B[43mq\u001B[49m\u001B[43m(\u001B[49m\u001B[43mx1_vals\u001B[49m\u001B[43m[\u001B[49m\u001B[43mi\u001B[49m\u001B[43m]\u001B[49m\u001B[43m,\u001B[49m\u001B[43m \u001B[49m\u001B[43mx2_vals\u001B[49m\u001B[43m[\u001B[49m\u001B[43mj\u001B[49m\u001B[43m]\u001B[49m\u001B[43m)\u001B[49m\n\u001B[1;32m     14\u001B[0m     \u001B[38;5;28;01mif\u001B[39;00m(q_val \u001B[38;5;241m!=\u001B[39m \u001B[38;5;241m0\u001B[39m):\n\u001B[1;32m     15\u001B[0m         ratio \u001B[38;5;241m=\u001B[39m p_val\u001B[38;5;241m/\u001B[39mq_val\n",
      "Cell \u001B[0;32mIn[2], line 8\u001B[0m, in \u001B[0;36mq\u001B[0;34m(x1, x2)\u001B[0m\n\u001B[1;32m      5\u001B[0m q_x1 \u001B[38;5;241m=\u001B[39m sp\u001B[38;5;241m.\u001B[39mstats\u001B[38;5;241m.\u001B[39mnorm\u001B[38;5;241m.\u001B[39mpdf(x1, loc\u001B[38;5;241m=\u001B[39m\u001B[38;5;241m0\u001B[39m, scale\u001B[38;5;241m=\u001B[39mnp\u001B[38;5;241m.\u001B[39msqrt(\u001B[38;5;241m5\u001B[39m\u001B[38;5;241m/\u001B[39m\u001B[38;5;241m4\u001B[39m))\n\u001B[1;32m      7\u001B[0m \u001B[38;5;66;03m# Conditional distributions; mixtures\u001B[39;00m\n\u001B[0;32m----> 8\u001B[0m q_x2_given_x1_m1 \u001B[38;5;241m=\u001B[39m \u001B[43msp\u001B[49m\u001B[38;5;241;43m.\u001B[39;49m\u001B[43mstats\u001B[49m\u001B[38;5;241;43m.\u001B[39;49m\u001B[43mnorm\u001B[49m\u001B[38;5;241;43m.\u001B[39;49m\u001B[43mpdf\u001B[49m\u001B[43m(\u001B[49m\u001B[43mx2\u001B[49m\u001B[43m,\u001B[49m\u001B[43m \u001B[49m\u001B[43mloc\u001B[49m\u001B[38;5;241;43m=\u001B[39;49m\u001B[43mx1\u001B[49m\u001B[38;5;241;43m*\u001B[39;49m\u001B[38;5;241;43m*\u001B[39;49m\u001B[38;5;241;43m2\u001B[39;49m\u001B[38;5;241;43m-\u001B[39;49m\u001B[38;5;241;43m0.2\u001B[39;49m\u001B[43m,\u001B[49m\u001B[43m \u001B[49m\u001B[43mscale\u001B[49m\u001B[38;5;241;43m=\u001B[39;49m\u001B[43mnp\u001B[49m\u001B[38;5;241;43m.\u001B[39;49m\u001B[43msqrt\u001B[49m\u001B[43m(\u001B[49m\u001B[38;5;241;43m1\u001B[39;49m\u001B[38;5;241;43m/\u001B[39;49m\u001B[38;5;241;43m5\u001B[39;49m\u001B[43m)\u001B[49m\u001B[43m)\u001B[49m \n\u001B[1;32m      9\u001B[0m q_x2_given_x1_m2 \u001B[38;5;241m=\u001B[39m sp\u001B[38;5;241m.\u001B[39mstats\u001B[38;5;241m.\u001B[39mnorm\u001B[38;5;241m.\u001B[39mpdf(x2, loc\u001B[38;5;241m=\u001B[39mx1\u001B[38;5;241m*\u001B[39m\u001B[38;5;241m*\u001B[39m\u001B[38;5;241m2\u001B[39m\u001B[38;5;241m-\u001B[39m\u001B[38;5;241m0.1\u001B[39m, scale\u001B[38;5;241m=\u001B[39mnp\u001B[38;5;241m.\u001B[39msqrt(\u001B[38;5;241m2\u001B[39m\u001B[38;5;241m/\u001B[39m\u001B[38;5;241m5\u001B[39m))\n\u001B[1;32m     10\u001B[0m q_x2_given_x1_m3 \u001B[38;5;241m=\u001B[39m sp\u001B[38;5;241m.\u001B[39mstats\u001B[38;5;241m.\u001B[39mnorm\u001B[38;5;241m.\u001B[39mpdf(x2, loc\u001B[38;5;241m=\u001B[39mx1\u001B[38;5;241m*\u001B[39m\u001B[38;5;241m*\u001B[39m\u001B[38;5;241m2\u001B[39m, scale\u001B[38;5;241m=\u001B[39mnp\u001B[38;5;241m.\u001B[39msqrt(\u001B[38;5;241m1\u001B[39m\u001B[38;5;241m/\u001B[39m\u001B[38;5;241m5\u001B[39m))\n",
      "File \u001B[0;32m/opt/homebrew/lib/python3.11/site-packages/scipy/stats/_distn_infrastructure.py:2034\u001B[0m, in \u001B[0;36mrv_continuous.pdf\u001B[0;34m(self, x, *args, **kwds)\u001B[0m\n\u001B[1;32m   2032\u001B[0m putmask(output, (\u001B[38;5;241m1\u001B[39m\u001B[38;5;241m-\u001B[39mcond0)\u001B[38;5;241m+\u001B[39mnp\u001B[38;5;241m.\u001B[39misnan(x), \u001B[38;5;28mself\u001B[39m\u001B[38;5;241m.\u001B[39mbadvalue)\n\u001B[1;32m   2033\u001B[0m \u001B[38;5;28;01mif\u001B[39;00m np\u001B[38;5;241m.\u001B[39many(cond):\n\u001B[0;32m-> 2034\u001B[0m     goodargs \u001B[38;5;241m=\u001B[39m \u001B[43margsreduce\u001B[49m\u001B[43m(\u001B[49m\u001B[43mcond\u001B[49m\u001B[43m,\u001B[49m\u001B[43m \u001B[49m\u001B[38;5;241;43m*\u001B[39;49m\u001B[43m(\u001B[49m\u001B[43m(\u001B[49m\u001B[43mx\u001B[49m\u001B[43m,\u001B[49m\u001B[43m)\u001B[49m\u001B[38;5;241;43m+\u001B[39;49m\u001B[43margs\u001B[49m\u001B[38;5;241;43m+\u001B[39;49m\u001B[43m(\u001B[49m\u001B[43mscale\u001B[49m\u001B[43m,\u001B[49m\u001B[43m)\u001B[49m\u001B[43m)\u001B[49m\u001B[43m)\u001B[49m\n\u001B[1;32m   2035\u001B[0m     scale, goodargs \u001B[38;5;241m=\u001B[39m goodargs[\u001B[38;5;241m-\u001B[39m\u001B[38;5;241m1\u001B[39m], goodargs[:\u001B[38;5;241m-\u001B[39m\u001B[38;5;241m1\u001B[39m]\n\u001B[1;32m   2036\u001B[0m     place(output, cond, \u001B[38;5;28mself\u001B[39m\u001B[38;5;241m.\u001B[39m_pdf(\u001B[38;5;241m*\u001B[39mgoodargs) \u001B[38;5;241m/\u001B[39m scale)\n",
      "File \u001B[0;32m/opt/homebrew/lib/python3.11/site-packages/scipy/stats/_distn_infrastructure.py:645\u001B[0m, in \u001B[0;36margsreduce\u001B[0;34m(cond, *args)\u001B[0m\n\u001B[1;32m    641\u001B[0m     newargs \u001B[38;5;241m=\u001B[39m (newargs,)\n\u001B[1;32m    643\u001B[0m \u001B[38;5;28;01mif\u001B[39;00m np\u001B[38;5;241m.\u001B[39mall(cond):\n\u001B[1;32m    644\u001B[0m     \u001B[38;5;66;03m# broadcast arrays with cond\u001B[39;00m\n\u001B[0;32m--> 645\u001B[0m     \u001B[38;5;241m*\u001B[39mnewargs, cond \u001B[38;5;241m=\u001B[39m \u001B[43mnp\u001B[49m\u001B[38;5;241;43m.\u001B[39;49m\u001B[43mbroadcast_arrays\u001B[49m\u001B[43m(\u001B[49m\u001B[38;5;241;43m*\u001B[39;49m\u001B[43mnewargs\u001B[49m\u001B[43m,\u001B[49m\u001B[43m \u001B[49m\u001B[43mcond\u001B[49m\u001B[43m)\u001B[49m\n\u001B[1;32m    646\u001B[0m     \u001B[38;5;28;01mreturn\u001B[39;00m [arg\u001B[38;5;241m.\u001B[39mravel() \u001B[38;5;28;01mfor\u001B[39;00m arg \u001B[38;5;129;01min\u001B[39;00m newargs]\n\u001B[1;32m    648\u001B[0m s \u001B[38;5;241m=\u001B[39m cond\u001B[38;5;241m.\u001B[39mshape\n",
      "File \u001B[0;32m/opt/homebrew/lib/python3.11/site-packages/numpy/lib/stride_tricks.py:546\u001B[0m, in \u001B[0;36mbroadcast_arrays\u001B[0;34m(subok, *args)\u001B[0m\n\u001B[1;32m    542\u001B[0m \u001B[38;5;28;01mif\u001B[39;00m \u001B[38;5;28mall\u001B[39m(array\u001B[38;5;241m.\u001B[39mshape \u001B[38;5;241m==\u001B[39m shape \u001B[38;5;28;01mfor\u001B[39;00m array \u001B[38;5;129;01min\u001B[39;00m args):\n\u001B[1;32m    543\u001B[0m     \u001B[38;5;66;03m# Common case where nothing needs to be broadcasted.\u001B[39;00m\n\u001B[1;32m    544\u001B[0m     \u001B[38;5;28;01mreturn\u001B[39;00m args\n\u001B[0;32m--> 546\u001B[0m \u001B[38;5;28;01mreturn\u001B[39;00m \u001B[43m[\u001B[49m\u001B[43m_broadcast_to\u001B[49m\u001B[43m(\u001B[49m\u001B[43marray\u001B[49m\u001B[43m,\u001B[49m\u001B[43m \u001B[49m\u001B[43mshape\u001B[49m\u001B[43m,\u001B[49m\u001B[43m \u001B[49m\u001B[43msubok\u001B[49m\u001B[38;5;241;43m=\u001B[39;49m\u001B[43msubok\u001B[49m\u001B[43m,\u001B[49m\u001B[43m \u001B[49m\u001B[43mreadonly\u001B[49m\u001B[38;5;241;43m=\u001B[39;49m\u001B[38;5;28;43;01mFalse\u001B[39;49;00m\u001B[43m)\u001B[49m\n\u001B[1;32m    547\u001B[0m \u001B[43m        \u001B[49m\u001B[38;5;28;43;01mfor\u001B[39;49;00m\u001B[43m \u001B[49m\u001B[43marray\u001B[49m\u001B[43m \u001B[49m\u001B[38;5;129;43;01min\u001B[39;49;00m\u001B[43m \u001B[49m\u001B[43margs\u001B[49m\u001B[43m]\u001B[49m\n",
      "File \u001B[0;32m/opt/homebrew/lib/python3.11/site-packages/numpy/lib/stride_tricks.py:546\u001B[0m, in \u001B[0;36m<listcomp>\u001B[0;34m(.0)\u001B[0m\n\u001B[1;32m    542\u001B[0m \u001B[38;5;28;01mif\u001B[39;00m \u001B[38;5;28mall\u001B[39m(array\u001B[38;5;241m.\u001B[39mshape \u001B[38;5;241m==\u001B[39m shape \u001B[38;5;28;01mfor\u001B[39;00m array \u001B[38;5;129;01min\u001B[39;00m args):\n\u001B[1;32m    543\u001B[0m     \u001B[38;5;66;03m# Common case where nothing needs to be broadcasted.\u001B[39;00m\n\u001B[1;32m    544\u001B[0m     \u001B[38;5;28;01mreturn\u001B[39;00m args\n\u001B[0;32m--> 546\u001B[0m \u001B[38;5;28;01mreturn\u001B[39;00m [\u001B[43m_broadcast_to\u001B[49m\u001B[43m(\u001B[49m\u001B[43marray\u001B[49m\u001B[43m,\u001B[49m\u001B[43m \u001B[49m\u001B[43mshape\u001B[49m\u001B[43m,\u001B[49m\u001B[43m \u001B[49m\u001B[43msubok\u001B[49m\u001B[38;5;241;43m=\u001B[39;49m\u001B[43msubok\u001B[49m\u001B[43m,\u001B[49m\u001B[43m \u001B[49m\u001B[43mreadonly\u001B[49m\u001B[38;5;241;43m=\u001B[39;49m\u001B[38;5;28;43;01mFalse\u001B[39;49;00m\u001B[43m)\u001B[49m\n\u001B[1;32m    547\u001B[0m         \u001B[38;5;28;01mfor\u001B[39;00m array \u001B[38;5;129;01min\u001B[39;00m args]\n",
      "File \u001B[0;32m/opt/homebrew/lib/python3.11/site-packages/numpy/lib/stride_tricks.py:342\u001B[0m, in \u001B[0;36m_broadcast_to\u001B[0;34m(array, shape, subok, readonly)\u001B[0m\n\u001B[1;32m    340\u001B[0m \u001B[38;5;28;01mdef\u001B[39;00m \u001B[38;5;21m_broadcast_to\u001B[39m(array, shape, subok, readonly):\n\u001B[1;32m    341\u001B[0m     shape \u001B[38;5;241m=\u001B[39m \u001B[38;5;28mtuple\u001B[39m(shape) \u001B[38;5;28;01mif\u001B[39;00m np\u001B[38;5;241m.\u001B[39miterable(shape) \u001B[38;5;28;01melse\u001B[39;00m (shape,)\n\u001B[0;32m--> 342\u001B[0m     array \u001B[38;5;241m=\u001B[39m np\u001B[38;5;241m.\u001B[39marray(array, copy\u001B[38;5;241m=\u001B[39m\u001B[38;5;28;01mFalse\u001B[39;00m, subok\u001B[38;5;241m=\u001B[39msubok)\n\u001B[1;32m    343\u001B[0m     \u001B[38;5;28;01mif\u001B[39;00m \u001B[38;5;129;01mnot\u001B[39;00m shape \u001B[38;5;129;01mand\u001B[39;00m array\u001B[38;5;241m.\u001B[39mshape:\n\u001B[1;32m    344\u001B[0m         \u001B[38;5;28;01mraise\u001B[39;00m \u001B[38;5;167;01mValueError\u001B[39;00m(\u001B[38;5;124m'\u001B[39m\u001B[38;5;124mcannot broadcast a non-scalar to a scalar array\u001B[39m\u001B[38;5;124m'\u001B[39m)\n",
      "\u001B[0;31mKeyboardInterrupt\u001B[0m: "
     ]
    }
   ],
   "source": [
    "def find_optimum_ratio():\n",
    "    # Numerical grid search across a suitable space\n",
    "    x1_vals = np.linspace(-12, 12, 1000)\n",
    "    x2_vals = np.linspace(-12, 12, 1000)\n",
    "\n",
    "    max_ratio = 0\n",
    "\n",
    "    # Update the max by iterating through all combinations\n",
    "    for i in range(len(x1_vals)):\n",
    "        for j in range(len(x2_vals)):\n",
    "            p_val = p_bar(x1_vals[i], x2_vals[j])\n",
    "            q_val = q(x1_vals[i], x2_vals[j])\n",
    "\n",
    "            if(q_val != 0):\n",
    "                ratio = p_val/q_val\n",
    "                max_ratio = max(max_ratio, ratio)\n",
    "            \n",
    "    return max_ratio\n",
    "\n",
    "find_optimum_ratio()\n",
    "\n",
    "# Choose M = 4.6 as it is greater than the numerical supremum"
   ]
  },
  {
   "cell_type": "markdown",
   "id": "7d861eca-751f-4ff9-927f-2f58061a8611",
   "metadata": {
    "jp-MarkdownHeadingCollapsed": true
   },
   "source": [
    "#### Note that whilst we should be theoretically optimising over R^2, it suffices to optimise over the region of interest which is [-12,12] x [-12,12] by inspection.\n",
    "\n"
   ]
  },
  {
   "cell_type": "markdown",
   "id": "079fb547-2f1c-4285-8815-4dcb1929c60f",
   "metadata": {},
   "source": [
    "## Q1c)"
   ]
  },
  {
   "cell_type": "markdown",
   "id": "8c170a92-d92a-4fee-9c0c-a8d77c407cb8",
   "metadata": {},
   "source": [
    "#### In order to simulate the sampling from our proposal density q, we first sample from our marginal density, and then we use a Bernouilli sample to select our index, and then select the appropriate normal distribution from our Gaussian Mixture Model."
   ]
  },
  {
   "cell_type": "code",
   "execution_count": null,
   "id": "45cf6cf8-fca3-4f21-83a6-b05840a765e9",
   "metadata": {
    "ExecuteTime": {
     "end_time": "2024-11-17T21:55:55.882956Z",
     "start_time": "2024-11-17T21:55:55.877491Z"
    }
   },
   "outputs": [],
   "source": [
    "def sample_q_conditional(x1):\n",
    "    # Bernoulli distribution using uniform distribution to choose the index for the mixture model\n",
    "    U = np.random.uniform(0,1)\n",
    "\n",
    "    if 0 <= U and U < 0.2:\n",
    "        return np.random.normal(x1**2-0.2, np.sqrt(1/5))\n",
    "\n",
    "    if 0.2 <= U and U < 0.6:\n",
    "        return np.random.normal(x1**2-0.1, np.sqrt(2/5))\n",
    "\n",
    "    return np.random.normal(x1**2, np.sqrt(1/5))\n",
    "\n",
    "\n",
    "def rejection_sampler():\n",
    "    N = 50000\n",
    "    M = 4.6\n",
    "\n",
    "    # Generate x1's by using the marginal density\n",
    "    x1s = np.random.normal(0, np.sqrt(5/4), N)\n",
    "\n",
    "    # Store the arrays of accepted entries of x\n",
    "    x1_accepted = np.array([])\n",
    "    x2_accepted = np.array([])\n",
    "\n",
    "    # Iterate through generating x2's using the x1's, and store if the acceptance condition is met\n",
    "    for i in range(N):\n",
    "        x2 = sample_q_conditional(x1s[i])\n",
    "        p_val = p_bar(x1s[i], x2)\n",
    "        q_val = q(x1s[i], x2)    \n",
    "        U = np.random.uniform(0,1)\n",
    "\n",
    "        # Log acceptance condition\n",
    "        if (np.log(U) < np.log(p_val) - np.log(M) - np.log(q_val)):\n",
    "            x1_accepted = np.append(x1_accepted, x1s[i])\n",
    "            x2_accepted = np.append(x2_accepted, x2)\n",
    "\n",
    "    acceptance_rate = len(x1_accepted) / N\n",
    "    print(f\"Empirical Acceptance Rate: {acceptance_rate:.4f}\")\n",
    "\n",
    "    return x1_accepted, x2_accepted\n",
    "\n",
    "sample_x1s, sample_x2s = rejection_sampler()\n",
    "plt.figure(figsize=(8, 8))\n",
    "plt.scatter(sample_x1s, sample_x2s, s=1, alpha=0.3)\n",
    "plt.title(\"Scatter Plot of Accepted Samples\")\n",
    "plt.xlabel(\"x1\")\n",
    "\n",
    "plt.ylabel(\"x2\")\n",
    "plt.show()"
   ]
  },
  {
   "cell_type": "markdown",
   "id": "2f27cfed-92f1-4f77-bef0-f9e2b0970f17",
   "metadata": {},
   "source": [
    "## Q1d)"
   ]
  },
  {
   "cell_type": "code",
   "execution_count": null,
   "id": "b89b3c27-bdb4-4216-b2ca-76aadbe81fc7",
   "metadata": {
    "ExecuteTime": {
     "start_time": "2024-11-17T21:55:55.878695Z"
    }
   },
   "outputs": [],
   "source": [
    "def theoretical_acceptance_rate():\n",
    "    M = 4.6\n",
    "    Z, _ = sp.integrate.dblquad(p_bar, -12, 12, -12, 12)\n",
    "    acceptance_rate = Z / M\n",
    "    print(f\"Theoretical Acceptance Rate: {acceptance_rate:.4f}\")\n",
    "\n",
    "theoretical_acceptance_rate()"
   ]
  },
  {
   "cell_type": "markdown",
   "id": "c0d2dd19-3cdb-43d3-a439-d5fe7aafb29b",
   "metadata": {},
   "source": [
    "## Q1e)"
   ]
  },
  {
   "cell_type": "code",
   "execution_count": null,
   "id": "707744f4-c263-4c32-ba77-c8f091952231",
   "metadata": {
    "ExecuteTime": {
     "start_time": "2024-11-17T21:55:55.879761Z"
    }
   },
   "outputs": [],
   "source": [
    "def kolmogorov_smirnov_test():\n",
    "    # Load data from samples.npy\n",
    "    data = np.load('samples.npy')\n",
    "    banana_x1s = data[:, 0]\n",
    "    banana_x2s = data[:, 1]\n",
    "\n",
    "    # Kolomogorov tests\n",
    "    ks_x1_stat, ks_x1_p_value = sp.stats.ks_2samp(banana_x1s, sample_x1s)\n",
    "    ks_x2_stat, ks_x2_p_value = sp.stats.ks_2samp(banana_x2s, sample_x2s)\n",
    "\n",
    "    # Print\n",
    "    print(f\"Kolmogorov-Smirnov Test for x1 marginal: p-value = {ks_x1_p_value}\")\n",
    "    print(f\"Kolmogorov-Smirnov Test for x2 marginal: p-value = {ks_x2_p_value}\")\n",
    "\n",
    "kolmogorov_smirnov_test()"
   ]
  },
  {
   "cell_type": "markdown",
   "id": "ee0ed833-8286-4381-bf7a-94701dde6a79",
   "metadata": {},
   "source": [
    "## Q2a)"
   ]
  },
  {
   "cell_type": "markdown",
   "id": "bbd35d94-7c5a-43ba-b54b-df6f267be5a3",
   "metadata": {},
   "source": [
    "#### Please not that for this question, we will be using a different choice for the proposal density q(x), to simplify calculations:\n",
    "\n",
    "$q(x_1) = N(x_1; 0, 5)$\n",
    "\n",
    "$q(x_2|x_1) = N(x_2; x_1^{2}, \\frac{1}{4})$\n",
    "\n",
    "$\\implies q(x_1, x_2) = q(x_2|x_1) \\cdot q(x_1) = \\frac{1}{2 \\pi \\cdot \\sqrt{\\frac{5}{4}}} \\cdot \\exp(-\\frac{x_1^{2}}{10} \\cdot -2(x_2 - x_1^{2})^{2})$\n",
    "\n",
    "#### We will derive SNIS estimators for both the marginal distribution as follows:\n",
    "\n",
    "${p}_1(y_{1:T})_{\\substack{\\text{SNIS}}} = \\frac{\\int p_1(y_{1:T}|x) \\cdot \\bar{p}(x) \\, dx}{\\int \\bar{p}(x) \\, dx}$\n",
    "\n",
    "$\\text{Defining } W(x) = \\frac{\\bar{p}(x)}{q(x)} ,\\text{ } \\log(\\tilde{W}_i) = \\log(\\bar{p}(X^{(i)})) - \\log(q(X^{(i)})) - \\max_{\\substack{i}} \\log(W(X^{(i)})) \\text{ and } \\bar{w}_i = \\frac{\\exp(\\log(\\tilde{W}_i))}{\\sum_{i=1}^{N} \\exp(\\log(\\tilde{W}_i))} \\text{, we get that:}$\n",
    "\n",
    "$\\int \\hat{p}_1(y_{1:T}|x) \\cdot \\bar{p}(x) \\, dx = \\int \\frac{p_1(y_{1:T}|x) \\cdot \\bar{p}(x)}{q(x)}\\, \\cdot q(x) dx = \\int p_1(y_{1:T}|x) \\cdot W(x) \\cdot q(x)\\, dx \\approx \\frac{1}{N} \\sum_{i=1}^{N} p_1(y_{1:T}|x^{(i)}) \\cdot W(x^{(i)})$\n",
    "\n",
    "$\\int \\bar{p}(x)\\, dx = \\int \\frac{\\bar{p}(x)}{q(x)} \\cdot q(x) \\, dx = \\int W(x) \\cdot q(x) \\, dx \\approx \\frac{1}{N} \\sum_{i=1}^{N} W(x^{(i)})$\n",
    "\n",
    "$\\implies \\hat{p}_1(y_{1:T})_{\\substack{\\text{SNIS}}} = \\frac{1}{N} \\sum_{i=1}^{N} p_1(y_{1:T}|x^{(i)}) \\cdot \\bar{w}_i$\n",
    "\n",
    "$\\text{We also have that } p_1(y_{1:T}|x^{(j)}) = \\prod_{i=1}^{T} N(x_1^{(j)}, \\frac{1}{10}) = {(\\frac{5}{\\pi})}^{\\frac{T}{2}} \\cdot \\exp (-5\\sum_{i=1}^{T}{(y_i - x_1^{(j)})}^2)$\n",
    "\n",
    "$\\implies \\hat{p}_1(y_{1:T})_{\\substack{\\text{SNIS}}} = \\frac{1}{N} \\sum_{i=1}^{N} [{(\\frac{5}{\\pi})}^{\\frac{T}{2}} \\cdot \\exp (-5\\sum_{i=1}^{T}{(y_i - x_1^{(j)})}^2) \\cdot \\bar{w}_i]$\n",
    "\n",
    "$\\text{Simiarly we have that } p_2^{v}(y_{1:T}|x^{(j)}) = (\\frac{\\Gamma(\\frac{1+v}{2})}{\\Gamma(\\frac{v}{2}) \\cdot (\\frac{\\pi v}{10})^{\\frac{1}{2}}})^{T} \\cdot \\prod_{i=1}^{T} [1 + \\frac{10(y_i - x_j^{(i)})^{2}}{v}]^{-\\frac{1+v}{2}} \\text{, so by symmetry we get:}$\n",
    "\n",
    "$\\hat{p}_2^{v}(y_{1:T})_{\\text{SNIS}} = \\frac{1}{N} \\sum_{i=1}^{N} p_2^{v}(y_{1:T}|x^{(i)}) \\cdot \\bar{w}_i = \\frac{1}{N} \\sum_{i=1}^{N} [\\frac{\\Gamma(\\frac{1+v}{2})}{\\Gamma(\\frac{v}{2}) \\cdot (\\frac{\\pi v}{10})^{\\frac{1}{2}}})^{T} \\cdot \\prod_{i=1}^{T} [1 + \\frac{10(y_i - x_j^{(i)})^{2}}{v}]^{-\\frac{1+v}{2}} \\cdot \\bar{w}_i] $"
   ]
  },
  {
   "cell_type": "markdown",
   "id": "339bd84c-87a0-470d-8d96-0249328ee167",
   "metadata": {},
   "source": [
    "## Q2b)"
   ]
  },
  {
   "cell_type": "markdown",
   "id": "4b1a93ef-d529-492b-a33c-f56f3008809a",
   "metadata": {},
   "source": [
    "#### Below we have the implementations of the naive logsumexp function and the numerically stable logsumexp function. They have been tested below this"
   ]
  },
  {
   "cell_type": "code",
   "execution_count": 5,
   "id": "3fd12bc9-a0fb-4248-96c2-1e4db93ab1b6",
   "metadata": {
    "ExecuteTime": {
     "end_time": "2024-11-17T21:56:02.275486Z",
     "start_time": "2024-11-17T21:56:02.272269Z"
    }
   },
   "outputs": [
    {
     "name": "stdout",
     "output_type": "stream",
     "text": [
      "Naive implementation failed\n",
      "The result of numerically stable logsumexp is: 40353607.0\n"
     ]
    }
   ],
   "source": [
    "def naive_logsumexp(values):\n",
    "    return np.log(np.sum(np.exp(values)))\n",
    "\n",
    "def logsumexp(values):\n",
    "    max_val = np.max(values)\n",
    "    return np.log(np.sum(np.exp(values - max_val))) + max_val\n",
    "\n",
    "def test_logsumexp_funcs():\n",
    "    warnings.simplefilter('error', RuntimeWarning)\n",
    "    values = np.array([7**i for i in range(10)])\n",
    "\n",
    "    try:\n",
    "        res = naive_logsumexp(values)\n",
    "        print(f\"The result of naive_logsumexp is: {res}\")\n",
    "    except RuntimeWarning as e:\n",
    "        print(\"Naive implementation failed\")\n",
    "\n",
    "    print(f\"The result of numerically stable logsumexp is: {logsumexp(values)}\")\n",
    "\n",
    "test_logsumexp_funcs()"
   ]
  },
  {
   "cell_type": "markdown",
   "id": "5ea6fce6-8cfe-4b24-a247-5676d79404be",
   "metadata": {},
   "source": [
    "## Q2c)"
   ]
  },
  {
   "cell_type": "code",
   "execution_count": 6,
   "id": "b9ecf84d-b9c0-43de-ab86-a0092d57c41d",
   "metadata": {
    "ExecuteTime": {
     "end_time": "2024-11-17T21:56:06.517460Z",
     "start_time": "2024-11-17T21:56:06.508132Z"
    }
   },
   "outputs": [],
   "source": [
    "# Load the data for y's\n",
    "ys = np.load('y.npy')\n",
    "\n",
    "# Redefining the proposal density, q\n",
    "def q2(x1, x2):\n",
    "    q2_x1 = sp.stats.norm.pdf(x1, loc=0, scale=np.sqrt(5))\n",
    "    q2_x2_given_x1 = sp.stats.norm.pdf(x2, loc=x1**2, scale=1/2)\n",
    "    return q2_x1 * q2_x2_given_x1"
   ]
  },
  {
   "cell_type": "markdown",
   "id": "0dd77e1b-3f0c-47ab-a06b-70fa4fe700c1",
   "metadata": {},
   "source": [
    "#### Implementing SNIS for p1:"
   ]
  },
  {
   "cell_type": "code",
   "execution_count": 31,
   "id": "32696268-5c86-49db-95af-360fe5410942",
   "metadata": {
    "ExecuteTime": {
     "end_time": "2024-11-17T23:08:56.952109Z",
     "start_time": "2024-11-17T23:08:56.937694Z"
    }
   },
   "outputs": [],
   "source": [
    "# Implementing the non - joint conditional density p(y|x)\n",
    "def p1(y, x1):\n",
    "    return sp.stats.norm.pdf(y, loc=x1, scale=np.sqrt(1/10))\n",
    "    \n",
    "# Implementing the joint conditional density p(y_1:T|x)\n",
    "def p1_joint_conditional(ys, x1):\n",
    "    return np.prod(p1(ys, x1))\n",
    "\n",
    "def weights(xs):\n",
    "    x1s = xs[:, 0]\n",
    "    x2s = xs[:, 1]\n",
    "    log_Ws = np.log(p_bar(x1s, x2s)) - np.log(q2(x1s, x2s))  \n",
    "    max_log_w = np.max(log_Ws)\n",
    "    adjusted_log_Ws = log_Ws - max_log_w\n",
    "    total = np.sum(np.exp(adjusted_log_Ws))\n",
    "    return np.exp(adjusted_log_Ws) / total\n",
    "\n",
    "def p1_SNIS(xs, ys):\n",
    "    x1s = xs[:, 0]\n",
    "    x2s = xs[:, 1]\n",
    "    ws = weights(xs)\n",
    "    N = len(x1s)\n",
    "    T = len(ys)\n",
    "\n",
    "    vals = np.zeros(N, dtype='float64')\n",
    "\n",
    "    for i in range(N):\n",
    "        ls = p1(ys, x1s[i])\n",
    "        ls = ls[ls > 0]\n",
    "        vals[i] = np.sum(np.log(ls)) + np.log(ws[i])\n",
    "\n",
    "    log_SNIS = logsumexp(vals) - np.log(N)\n",
    "\n",
    "    return log_SNIS, vals"
   ]
  },
  {
   "cell_type": "code",
   "execution_count": 32,
   "id": "8a620e4f-9cc9-4abd-b4c1-99951d425b48",
   "metadata": {
    "ExecuteTime": {
     "end_time": "2024-11-17T23:09:18.776659Z",
     "start_time": "2024-11-17T23:09:03.758394Z"
    }
   },
   "outputs": [],
   "source": [
    "xs = np.load('samples.npy')\n",
    "ys = np.load('y.npy')\n",
    "\n",
    "e, v = p1_SNIS(xs, ys)"
   ]
  },
  {
   "cell_type": "code",
   "execution_count": 16,
   "id": "11789805-319c-4f3d-82fb-02c4e1d484bd",
   "metadata": {
    "ExecuteTime": {
     "end_time": "2024-11-17T22:54:20.262435Z",
     "start_time": "2024-11-17T22:54:20.248274Z"
    }
   },
   "outputs": [
    {
     "data": {
      "text/plain": "array([-10.9659917 , -16.07600761, -11.65965468, ..., -10.7153705 ,\n       -10.6976686 , -10.69316527])"
     },
     "execution_count": 16,
     "metadata": {},
     "output_type": "execute_result"
    }
   ],
   "source": [
    "np.log(weights(xs))"
   ]
  },
  {
   "cell_type": "code",
   "execution_count": 33,
   "outputs": [
    {
     "data": {
      "text/plain": "-18571.133954033347"
     },
     "execution_count": 33,
     "metadata": {},
     "output_type": "execute_result"
    }
   ],
   "source": [
    "e"
   ],
   "metadata": {
    "collapsed": false,
    "ExecuteTime": {
     "end_time": "2024-11-17T23:09:21.324863Z",
     "start_time": "2024-11-17T23:09:21.316629Z"
    }
   },
   "id": "6e523385770dc461"
  },
  {
   "cell_type": "code",
   "execution_count": null,
   "outputs": [],
   "source": [],
   "metadata": {
    "collapsed": false
   },
   "id": "eb8c0ee10968136d"
  }
 ],
 "metadata": {
  "kernelspec": {
   "display_name": "Python 3 (ipykernel)",
   "language": "python",
   "name": "python3"
  },
  "language_info": {
   "codemirror_mode": {
    "name": "ipython",
    "version": 3
   },
   "file_extension": ".py",
   "mimetype": "text/x-python",
   "name": "python",
   "nbconvert_exporter": "python",
   "pygments_lexer": "ipython3",
   "version": "3.9.6"
  }
 },
 "nbformat": 4,
 "nbformat_minor": 5
}
